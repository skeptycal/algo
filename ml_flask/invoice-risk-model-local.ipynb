{
 "cells": [
  {
   "cell_type": "code",
   "execution_count": 120,
   "metadata": {},
   "outputs": [],
   "source": [
    "import pandas as pd\n",
    "from sklearn.model_selection import train_test_split\n",
    "import xgboost as xgb\n",
    "from sklearn.metrics import accuracy_score\n",
    "import pickle\n",
    "from matplotlib import pyplot"
   ]
  },
  {
   "cell_type": "code",
   "execution_count": 121,
   "metadata": {},
   "outputs": [
    {
     "data": {
      "text/html": [
       "<div>\n",
       "<style scoped>\n",
       "    .dataframe tbody tr th:only-of-type {\n",
       "        vertical-align: middle;\n",
       "    }\n",
       "\n",
       "    .dataframe tbody tr th {\n",
       "        vertical-align: top;\n",
       "    }\n",
       "\n",
       "    .dataframe thead th {\n",
       "        text-align: right;\n",
       "    }\n",
       "</style>\n",
       "<table border=\"1\" class=\"dataframe\">\n",
       "  <thead>\n",
       "    <tr style=\"text-align: right;\">\n",
       "      <th></th>\n",
       "      <th>invoice_risk_decision</th>\n",
       "      <th>customer</th>\n",
       "      <th>payment_due_date</th>\n",
       "      <th>payment_date</th>\n",
       "      <th>grand_total</th>\n",
       "    </tr>\n",
       "  </thead>\n",
       "  <tbody>\n",
       "    <tr>\n",
       "      <th>0</th>\n",
       "      <td>0</td>\n",
       "      <td>id_24</td>\n",
       "      <td>2</td>\n",
       "      <td>2</td>\n",
       "      <td>64.25</td>\n",
       "    </tr>\n",
       "    <tr>\n",
       "      <th>1</th>\n",
       "      <td>0</td>\n",
       "      <td>id_11</td>\n",
       "      <td>3</td>\n",
       "      <td>3</td>\n",
       "      <td>50.34</td>\n",
       "    </tr>\n",
       "    <tr>\n",
       "      <th>2</th>\n",
       "      <td>0</td>\n",
       "      <td>id_29</td>\n",
       "      <td>4</td>\n",
       "      <td>4</td>\n",
       "      <td>40.03</td>\n",
       "    </tr>\n",
       "    <tr>\n",
       "      <th>3</th>\n",
       "      <td>0</td>\n",
       "      <td>id_28</td>\n",
       "      <td>4</td>\n",
       "      <td>2</td>\n",
       "      <td>94.86</td>\n",
       "    </tr>\n",
       "    <tr>\n",
       "      <th>4</th>\n",
       "      <td>1</td>\n",
       "      <td>id_13</td>\n",
       "      <td>2</td>\n",
       "      <td>8</td>\n",
       "      <td>65.15</td>\n",
       "    </tr>\n",
       "  </tbody>\n",
       "</table>\n",
       "</div>"
      ],
      "text/plain": [
       "   invoice_risk_decision customer  payment_due_date  payment_date  grand_total\n",
       "0                      0    id_24                 2             2        64.25\n",
       "1                      0    id_11                 3             3        50.34\n",
       "2                      0    id_29                 4             4        40.03\n",
       "3                      0    id_28                 4             2        94.86\n",
       "4                      1    id_13                 2             8        65.15"
      ]
     },
     "execution_count": 121,
     "metadata": {},
     "output_type": "execute_result"
    }
   ],
   "source": [
    "df = pd.read_csv('../mldata/invoice/invoice_data_prog_processed.csv')\n",
    "df.head()"
   ]
  },
  {
   "cell_type": "code",
   "execution_count": 122,
   "metadata": {},
   "outputs": [
    {
     "name": "stdout",
     "output_type": "stream",
     "text": [
      "Number of rows in dataset: {df.shape[0]}\n",
      "0    171\n",
      "1    135\n",
      "Name: invoice_risk_decision, dtype: int64\n"
     ]
    }
   ],
   "source": [
    "print('Number of rows in dataset: {df.shape[0]}')\n",
    "print(df[df.columns[0]].value_counts())"
   ]
  },
  {
   "cell_type": "code",
   "execution_count": 123,
   "metadata": {},
   "outputs": [
    {
     "data": {
      "text/html": [
       "<div>\n",
       "<style scoped>\n",
       "    .dataframe tbody tr th:only-of-type {\n",
       "        vertical-align: middle;\n",
       "    }\n",
       "\n",
       "    .dataframe tbody tr th {\n",
       "        vertical-align: top;\n",
       "    }\n",
       "\n",
       "    .dataframe thead th {\n",
       "        text-align: right;\n",
       "    }\n",
       "</style>\n",
       "<table border=\"1\" class=\"dataframe\">\n",
       "  <thead>\n",
       "    <tr style=\"text-align: right;\">\n",
       "      <th></th>\n",
       "      <th>invoice_risk_decision</th>\n",
       "      <th>payment_due_date</th>\n",
       "      <th>payment_date</th>\n",
       "      <th>grand_total</th>\n",
       "      <th>customer_id_11</th>\n",
       "      <th>customer_id_12</th>\n",
       "      <th>customer_id_13</th>\n",
       "      <th>customer_id_14</th>\n",
       "      <th>customer_id_15</th>\n",
       "      <th>customer_id_18</th>\n",
       "      <th>...</th>\n",
       "      <th>customer_id_45</th>\n",
       "      <th>customer_id_46</th>\n",
       "      <th>customer_id_47</th>\n",
       "      <th>customer_id_48</th>\n",
       "      <th>customer_id_49</th>\n",
       "      <th>customer_id_50</th>\n",
       "      <th>customer_id_6</th>\n",
       "      <th>customer_id_7</th>\n",
       "      <th>customer_id_8</th>\n",
       "      <th>customer_id_9</th>\n",
       "    </tr>\n",
       "  </thead>\n",
       "  <tbody>\n",
       "    <tr>\n",
       "      <th>0</th>\n",
       "      <td>0</td>\n",
       "      <td>2</td>\n",
       "      <td>2</td>\n",
       "      <td>64.25</td>\n",
       "      <td>0</td>\n",
       "      <td>0</td>\n",
       "      <td>0</td>\n",
       "      <td>0</td>\n",
       "      <td>0</td>\n",
       "      <td>0</td>\n",
       "      <td>...</td>\n",
       "      <td>0</td>\n",
       "      <td>0</td>\n",
       "      <td>0</td>\n",
       "      <td>0</td>\n",
       "      <td>0</td>\n",
       "      <td>0</td>\n",
       "      <td>0</td>\n",
       "      <td>0</td>\n",
       "      <td>0</td>\n",
       "      <td>0</td>\n",
       "    </tr>\n",
       "    <tr>\n",
       "      <th>1</th>\n",
       "      <td>0</td>\n",
       "      <td>3</td>\n",
       "      <td>3</td>\n",
       "      <td>50.34</td>\n",
       "      <td>1</td>\n",
       "      <td>0</td>\n",
       "      <td>0</td>\n",
       "      <td>0</td>\n",
       "      <td>0</td>\n",
       "      <td>0</td>\n",
       "      <td>...</td>\n",
       "      <td>0</td>\n",
       "      <td>0</td>\n",
       "      <td>0</td>\n",
       "      <td>0</td>\n",
       "      <td>0</td>\n",
       "      <td>0</td>\n",
       "      <td>0</td>\n",
       "      <td>0</td>\n",
       "      <td>0</td>\n",
       "      <td>0</td>\n",
       "    </tr>\n",
       "    <tr>\n",
       "      <th>2</th>\n",
       "      <td>0</td>\n",
       "      <td>4</td>\n",
       "      <td>4</td>\n",
       "      <td>40.03</td>\n",
       "      <td>0</td>\n",
       "      <td>0</td>\n",
       "      <td>0</td>\n",
       "      <td>0</td>\n",
       "      <td>0</td>\n",
       "      <td>0</td>\n",
       "      <td>...</td>\n",
       "      <td>0</td>\n",
       "      <td>0</td>\n",
       "      <td>0</td>\n",
       "      <td>0</td>\n",
       "      <td>0</td>\n",
       "      <td>0</td>\n",
       "      <td>0</td>\n",
       "      <td>0</td>\n",
       "      <td>0</td>\n",
       "      <td>0</td>\n",
       "    </tr>\n",
       "    <tr>\n",
       "      <th>3</th>\n",
       "      <td>0</td>\n",
       "      <td>4</td>\n",
       "      <td>2</td>\n",
       "      <td>94.86</td>\n",
       "      <td>0</td>\n",
       "      <td>0</td>\n",
       "      <td>0</td>\n",
       "      <td>0</td>\n",
       "      <td>0</td>\n",
       "      <td>0</td>\n",
       "      <td>...</td>\n",
       "      <td>0</td>\n",
       "      <td>0</td>\n",
       "      <td>0</td>\n",
       "      <td>0</td>\n",
       "      <td>0</td>\n",
       "      <td>0</td>\n",
       "      <td>0</td>\n",
       "      <td>0</td>\n",
       "      <td>0</td>\n",
       "      <td>0</td>\n",
       "    </tr>\n",
       "    <tr>\n",
       "      <th>4</th>\n",
       "      <td>1</td>\n",
       "      <td>2</td>\n",
       "      <td>8</td>\n",
       "      <td>65.15</td>\n",
       "      <td>0</td>\n",
       "      <td>0</td>\n",
       "      <td>1</td>\n",
       "      <td>0</td>\n",
       "      <td>0</td>\n",
       "      <td>0</td>\n",
       "      <td>...</td>\n",
       "      <td>0</td>\n",
       "      <td>0</td>\n",
       "      <td>0</td>\n",
       "      <td>0</td>\n",
       "      <td>0</td>\n",
       "      <td>0</td>\n",
       "      <td>0</td>\n",
       "      <td>0</td>\n",
       "      <td>0</td>\n",
       "      <td>0</td>\n",
       "    </tr>\n",
       "  </tbody>\n",
       "</table>\n",
       "<p>5 rows × 44 columns</p>\n",
       "</div>"
      ],
      "text/plain": [
       "   invoice_risk_decision  payment_due_date  payment_date  grand_total  \\\n",
       "0                      0                 2             2        64.25   \n",
       "1                      0                 3             3        50.34   \n",
       "2                      0                 4             4        40.03   \n",
       "3                      0                 4             2        94.86   \n",
       "4                      1                 2             8        65.15   \n",
       "\n",
       "   customer_id_11  customer_id_12  customer_id_13  customer_id_14  \\\n",
       "0               0               0               0               0   \n",
       "1               1               0               0               0   \n",
       "2               0               0               0               0   \n",
       "3               0               0               0               0   \n",
       "4               0               0               1               0   \n",
       "\n",
       "   customer_id_15  customer_id_18      ...        customer_id_45  \\\n",
       "0               0               0      ...                     0   \n",
       "1               0               0      ...                     0   \n",
       "2               0               0      ...                     0   \n",
       "3               0               0      ...                     0   \n",
       "4               0               0      ...                     0   \n",
       "\n",
       "   customer_id_46  customer_id_47  customer_id_48  customer_id_49  \\\n",
       "0               0               0               0               0   \n",
       "1               0               0               0               0   \n",
       "2               0               0               0               0   \n",
       "3               0               0               0               0   \n",
       "4               0               0               0               0   \n",
       "\n",
       "   customer_id_50  customer_id_6  customer_id_7  customer_id_8  customer_id_9  \n",
       "0               0              0              0              0              0  \n",
       "1               0              0              0              0              0  \n",
       "2               0              0              0              0              0  \n",
       "3               0              0              0              0              0  \n",
       "4               0              0              0              0              0  \n",
       "\n",
       "[5 rows x 44 columns]"
      ]
     },
     "execution_count": 123,
     "metadata": {},
     "output_type": "execute_result"
    }
   ],
   "source": [
    "encoded_data = pd.get_dummies(df)\n",
    "encoded_data.head()"
   ]
  },
  {
   "cell_type": "code",
   "execution_count": 124,
   "metadata": {},
   "outputs": [
    {
     "data": {
      "text/plain": [
       "invoice_risk_decision    1.000000\n",
       "payment_due_date         0.349879\n",
       "payment_date             0.432499\n",
       "grand_total              0.182643\n",
       "customer_id_11           0.166688\n",
       "customer_id_12           0.111988\n",
       "customer_id_19           0.110278\n",
       "customer_id_27           0.102258\n",
       "customer_id_4            0.130518\n",
       "customer_id_44           0.114517\n",
       "customer_id_50           0.179509\n",
       "customer_id_8            0.131556\n",
       "Name: invoice_risk_decision, dtype: float64"
      ]
     },
     "execution_count": 124,
     "metadata": {},
     "output_type": "execute_result"
    }
   ],
   "source": [
    "corrs = encoded_data.corr()['invoice_risk_decision'].abs()\n",
    "columns = corrs[corrs > .1].index\n",
    "corrs = corrs.filter(columns)\n",
    "corrs"
   ]
  },
  {
   "cell_type": "code",
   "execution_count": 125,
   "metadata": {},
   "outputs": [],
   "source": [
    "# split data into X and y\n",
    "X = encoded_data.iloc[:, 1:44]\n",
    "Y = encoded_data.iloc[:, 0:1]"
   ]
  },
  {
   "cell_type": "code",
   "execution_count": 126,
   "metadata": {},
   "outputs": [
    {
     "name": "stdout",
     "output_type": "stream",
     "text": [
      "(275, 43) (31, 43)\n",
      "\n",
      "Number of rows in Train dataset: {train_df.shape[0]}\n",
      "0    154\n",
      "1    121\n",
      "Name: invoice_risk_decision, dtype: int64\n",
      "\n",
      "Number of rows in Test dataset: {test_df.shape[0]}\n",
      "0    17\n",
      "1    14\n",
      "Name: invoice_risk_decision, dtype: int64\n"
     ]
    }
   ],
   "source": [
    "headers = list(X)\n",
    "train_X, test_X, train_Y, test_Y = train_test_split(X, Y, test_size=0.1, stratify=Y, random_state=0)\n",
    "\n",
    "print(train_X.shape, test_X.shape)\n",
    "print()\n",
    "print('Number of rows in Train dataset: {train_df.shape[0]}')\n",
    "print(train_Y['invoice_risk_decision'].value_counts())\n",
    "print()\n",
    "print('Number of rows in Test dataset: {test_df.shape[0]}')\n",
    "print(test_Y['invoice_risk_decision'].value_counts())"
   ]
  },
  {
   "cell_type": "code",
   "execution_count": 127,
   "metadata": {},
   "outputs": [
    {
     "name": "stdout",
     "output_type": "stream",
     "text": [
      "[0]\tvalidation_0-error:0.090909\tvalidation_0-logloss:0.629911\tvalidation_1-error:0.16129\tvalidation_1-logloss:0.63981\n",
      "Multiple eval metrics have been passed: 'validation_1-logloss' will be used for early stopping.\n",
      "\n",
      "Will train until validation_1-logloss hasn't improved in 10 rounds.\n",
      "[1]\tvalidation_0-error:0.076364\tvalidation_0-logloss:0.578556\tvalidation_1-error:0.16129\tvalidation_1-logloss:0.602245\n",
      "[2]\tvalidation_0-error:0.090909\tvalidation_0-logloss:0.535296\tvalidation_1-error:0.225806\tvalidation_1-logloss:0.572046\n",
      "[3]\tvalidation_0-error:0.087273\tvalidation_0-logloss:0.498163\tvalidation_1-error:0.193548\tvalidation_1-logloss:0.541483\n",
      "[4]\tvalidation_0-error:0.090909\tvalidation_0-logloss:0.465502\tvalidation_1-error:0.225806\tvalidation_1-logloss:0.519728\n",
      "[5]\tvalidation_0-error:0.087273\tvalidation_0-logloss:0.434701\tvalidation_1-error:0.193548\tvalidation_1-logloss:0.497514\n",
      "[6]\tvalidation_0-error:0.087273\tvalidation_0-logloss:0.408699\tvalidation_1-error:0.193548\tvalidation_1-logloss:0.478515\n",
      "[7]\tvalidation_0-error:0.087273\tvalidation_0-logloss:0.385908\tvalidation_1-error:0.193548\tvalidation_1-logloss:0.461212\n",
      "[8]\tvalidation_0-error:0.087273\tvalidation_0-logloss:0.365582\tvalidation_1-error:0.193548\tvalidation_1-logloss:0.453806\n",
      "[9]\tvalidation_0-error:0.087273\tvalidation_0-logloss:0.348085\tvalidation_1-error:0.193548\tvalidation_1-logloss:0.443829\n",
      "[10]\tvalidation_0-error:0.083636\tvalidation_0-logloss:0.331396\tvalidation_1-error:0.193548\tvalidation_1-logloss:0.43225\n",
      "[11]\tvalidation_0-error:0.083636\tvalidation_0-logloss:0.317144\tvalidation_1-error:0.193548\tvalidation_1-logloss:0.42309\n",
      "[12]\tvalidation_0-error:0.08\tvalidation_0-logloss:0.303807\tvalidation_1-error:0.193548\tvalidation_1-logloss:0.412579\n",
      "[13]\tvalidation_0-error:0.087273\tvalidation_0-logloss:0.293444\tvalidation_1-error:0.193548\tvalidation_1-logloss:0.407053\n",
      "[14]\tvalidation_0-error:0.083636\tvalidation_0-logloss:0.281908\tvalidation_1-error:0.193548\tvalidation_1-logloss:0.394443\n",
      "[15]\tvalidation_0-error:0.069091\tvalidation_0-logloss:0.272244\tvalidation_1-error:0.16129\tvalidation_1-logloss:0.388564\n",
      "[16]\tvalidation_0-error:0.069091\tvalidation_0-logloss:0.262627\tvalidation_1-error:0.16129\tvalidation_1-logloss:0.381942\n",
      "[17]\tvalidation_0-error:0.065455\tvalidation_0-logloss:0.254735\tvalidation_1-error:0.16129\tvalidation_1-logloss:0.378078\n",
      "[18]\tvalidation_0-error:0.069091\tvalidation_0-logloss:0.245732\tvalidation_1-error:0.193548\tvalidation_1-logloss:0.367485\n",
      "[19]\tvalidation_0-error:0.065455\tvalidation_0-logloss:0.237318\tvalidation_1-error:0.16129\tvalidation_1-logloss:0.354978\n",
      "[20]\tvalidation_0-error:0.069091\tvalidation_0-logloss:0.229567\tvalidation_1-error:0.16129\tvalidation_1-logloss:0.348169\n",
      "[21]\tvalidation_0-error:0.065455\tvalidation_0-logloss:0.222982\tvalidation_1-error:0.16129\tvalidation_1-logloss:0.345962\n",
      "[22]\tvalidation_0-error:0.050909\tvalidation_0-logloss:0.214555\tvalidation_1-error:0.129032\tvalidation_1-logloss:0.338113\n",
      "[23]\tvalidation_0-error:0.054545\tvalidation_0-logloss:0.209283\tvalidation_1-error:0.129032\tvalidation_1-logloss:0.331574\n",
      "[24]\tvalidation_0-error:0.050909\tvalidation_0-logloss:0.204537\tvalidation_1-error:0.129032\tvalidation_1-logloss:0.327315\n",
      "[25]\tvalidation_0-error:0.047273\tvalidation_0-logloss:0.199346\tvalidation_1-error:0.129032\tvalidation_1-logloss:0.320049\n",
      "[26]\tvalidation_0-error:0.047273\tvalidation_0-logloss:0.195677\tvalidation_1-error:0.129032\tvalidation_1-logloss:0.320775\n",
      "[27]\tvalidation_0-error:0.050909\tvalidation_0-logloss:0.189882\tvalidation_1-error:0.129032\tvalidation_1-logloss:0.319048\n",
      "[28]\tvalidation_0-error:0.050909\tvalidation_0-logloss:0.184839\tvalidation_1-error:0.129032\tvalidation_1-logloss:0.315782\n",
      "[29]\tvalidation_0-error:0.047273\tvalidation_0-logloss:0.180553\tvalidation_1-error:0.129032\tvalidation_1-logloss:0.314096\n",
      "[30]\tvalidation_0-error:0.047273\tvalidation_0-logloss:0.177279\tvalidation_1-error:0.129032\tvalidation_1-logloss:0.307829\n",
      "[31]\tvalidation_0-error:0.047273\tvalidation_0-logloss:0.171516\tvalidation_1-error:0.129032\tvalidation_1-logloss:0.298641\n",
      "[32]\tvalidation_0-error:0.047273\tvalidation_0-logloss:0.168514\tvalidation_1-error:0.129032\tvalidation_1-logloss:0.293162\n",
      "[33]\tvalidation_0-error:0.047273\tvalidation_0-logloss:0.166311\tvalidation_1-error:0.129032\tvalidation_1-logloss:0.291802\n",
      "[34]\tvalidation_0-error:0.043636\tvalidation_0-logloss:0.162561\tvalidation_1-error:0.129032\tvalidation_1-logloss:0.285964\n",
      "[35]\tvalidation_0-error:0.04\tvalidation_0-logloss:0.157821\tvalidation_1-error:0.129032\tvalidation_1-logloss:0.281163\n",
      "[36]\tvalidation_0-error:0.04\tvalidation_0-logloss:0.154845\tvalidation_1-error:0.129032\tvalidation_1-logloss:0.275633\n",
      "[37]\tvalidation_0-error:0.04\tvalidation_0-logloss:0.152706\tvalidation_1-error:0.129032\tvalidation_1-logloss:0.272045\n",
      "[38]\tvalidation_0-error:0.036364\tvalidation_0-logloss:0.149742\tvalidation_1-error:0.129032\tvalidation_1-logloss:0.265393\n",
      "[39]\tvalidation_0-error:0.036364\tvalidation_0-logloss:0.147424\tvalidation_1-error:0.129032\tvalidation_1-logloss:0.261453\n",
      "[40]\tvalidation_0-error:0.036364\tvalidation_0-logloss:0.145332\tvalidation_1-error:0.129032\tvalidation_1-logloss:0.258574\n",
      "[41]\tvalidation_0-error:0.04\tvalidation_0-logloss:0.142789\tvalidation_1-error:0.129032\tvalidation_1-logloss:0.259103\n",
      "[42]\tvalidation_0-error:0.04\tvalidation_0-logloss:0.140145\tvalidation_1-error:0.129032\tvalidation_1-logloss:0.252656\n",
      "[43]\tvalidation_0-error:0.036364\tvalidation_0-logloss:0.137772\tvalidation_1-error:0.129032\tvalidation_1-logloss:0.251681\n",
      "[44]\tvalidation_0-error:0.036364\tvalidation_0-logloss:0.13574\tvalidation_1-error:0.129032\tvalidation_1-logloss:0.247168\n",
      "[45]\tvalidation_0-error:0.04\tvalidation_0-logloss:0.133322\tvalidation_1-error:0.129032\tvalidation_1-logloss:0.244618\n",
      "[46]\tvalidation_0-error:0.036364\tvalidation_0-logloss:0.131453\tvalidation_1-error:0.129032\tvalidation_1-logloss:0.245914\n",
      "[47]\tvalidation_0-error:0.032727\tvalidation_0-logloss:0.129809\tvalidation_1-error:0.129032\tvalidation_1-logloss:0.243251\n",
      "[48]\tvalidation_0-error:0.032727\tvalidation_0-logloss:0.128182\tvalidation_1-error:0.129032\tvalidation_1-logloss:0.241635\n",
      "[49]\tvalidation_0-error:0.032727\tvalidation_0-logloss:0.126536\tvalidation_1-error:0.129032\tvalidation_1-logloss:0.241105\n",
      "[50]\tvalidation_0-error:0.032727\tvalidation_0-logloss:0.124951\tvalidation_1-error:0.129032\tvalidation_1-logloss:0.240962\n",
      "[51]\tvalidation_0-error:0.032727\tvalidation_0-logloss:0.123455\tvalidation_1-error:0.129032\tvalidation_1-logloss:0.243561\n",
      "[52]\tvalidation_0-error:0.029091\tvalidation_0-logloss:0.121667\tvalidation_1-error:0.129032\tvalidation_1-logloss:0.239997\n",
      "[53]\tvalidation_0-error:0.025455\tvalidation_0-logloss:0.120058\tvalidation_1-error:0.129032\tvalidation_1-logloss:0.237412\n",
      "[54]\tvalidation_0-error:0.025455\tvalidation_0-logloss:0.118511\tvalidation_1-error:0.129032\tvalidation_1-logloss:0.237803\n",
      "[55]\tvalidation_0-error:0.029091\tvalidation_0-logloss:0.116629\tvalidation_1-error:0.129032\tvalidation_1-logloss:0.239369\n",
      "[56]\tvalidation_0-error:0.029091\tvalidation_0-logloss:0.115619\tvalidation_1-error:0.129032\tvalidation_1-logloss:0.240332\n",
      "[57]\tvalidation_0-error:0.025455\tvalidation_0-logloss:0.114027\tvalidation_1-error:0.129032\tvalidation_1-logloss:0.241079\n",
      "[58]\tvalidation_0-error:0.025455\tvalidation_0-logloss:0.113209\tvalidation_1-error:0.129032\tvalidation_1-logloss:0.242734\n",
      "[59]\tvalidation_0-error:0.029091\tvalidation_0-logloss:0.112075\tvalidation_1-error:0.129032\tvalidation_1-logloss:0.241136\n",
      "[60]\tvalidation_0-error:0.025455\tvalidation_0-logloss:0.111188\tvalidation_1-error:0.129032\tvalidation_1-logloss:0.240767\n",
      "[61]\tvalidation_0-error:0.025455\tvalidation_0-logloss:0.109827\tvalidation_1-error:0.129032\tvalidation_1-logloss:0.237597\n",
      "[62]\tvalidation_0-error:0.018182\tvalidation_0-logloss:0.108708\tvalidation_1-error:0.129032\tvalidation_1-logloss:0.235486\n"
     ]
    },
    {
     "name": "stderr",
     "output_type": "stream",
     "text": [
      "/opt/conda/lib/python3.6/site-packages/sklearn/preprocessing/label.py:252: DataConversionWarning: A column-vector y was passed when a 1d array was expected. Please change the shape of y to (n_samples, ), for example using ravel().\n",
      "  y = column_or_1d(y, warn=True)\n"
     ]
    },
    {
     "name": "stdout",
     "output_type": "stream",
     "text": [
      "[63]\tvalidation_0-error:0.021818\tvalidation_0-logloss:0.107631\tvalidation_1-error:0.129032\tvalidation_1-logloss:0.236126\n",
      "[64]\tvalidation_0-error:0.021818\tvalidation_0-logloss:0.106266\tvalidation_1-error:0.129032\tvalidation_1-logloss:0.235137\n",
      "[65]\tvalidation_0-error:0.021818\tvalidation_0-logloss:0.105366\tvalidation_1-error:0.129032\tvalidation_1-logloss:0.23471\n",
      "[66]\tvalidation_0-error:0.018182\tvalidation_0-logloss:0.104412\tvalidation_1-error:0.096774\tvalidation_1-logloss:0.23307\n",
      "[67]\tvalidation_0-error:0.021818\tvalidation_0-logloss:0.103735\tvalidation_1-error:0.096774\tvalidation_1-logloss:0.23181\n",
      "[68]\tvalidation_0-error:0.021818\tvalidation_0-logloss:0.103082\tvalidation_1-error:0.096774\tvalidation_1-logloss:0.230219\n",
      "[69]\tvalidation_0-error:0.018182\tvalidation_0-logloss:0.102411\tvalidation_1-error:0.064516\tvalidation_1-logloss:0.227608\n",
      "[70]\tvalidation_0-error:0.014545\tvalidation_0-logloss:0.101286\tvalidation_1-error:0.064516\tvalidation_1-logloss:0.22735\n",
      "[71]\tvalidation_0-error:0.018182\tvalidation_0-logloss:0.100744\tvalidation_1-error:0.064516\tvalidation_1-logloss:0.22699\n",
      "[72]\tvalidation_0-error:0.018182\tvalidation_0-logloss:0.099548\tvalidation_1-error:0.096774\tvalidation_1-logloss:0.227519\n",
      "[73]\tvalidation_0-error:0.014545\tvalidation_0-logloss:0.098423\tvalidation_1-error:0.064516\tvalidation_1-logloss:0.228867\n",
      "[74]\tvalidation_0-error:0.014545\tvalidation_0-logloss:0.09768\tvalidation_1-error:0.064516\tvalidation_1-logloss:0.228237\n",
      "[75]\tvalidation_0-error:0.014545\tvalidation_0-logloss:0.096733\tvalidation_1-error:0.064516\tvalidation_1-logloss:0.229501\n",
      "[76]\tvalidation_0-error:0.010909\tvalidation_0-logloss:0.095857\tvalidation_1-error:0.096774\tvalidation_1-logloss:0.228255\n",
      "[77]\tvalidation_0-error:0.010909\tvalidation_0-logloss:0.095396\tvalidation_1-error:0.096774\tvalidation_1-logloss:0.229408\n",
      "[78]\tvalidation_0-error:0.010909\tvalidation_0-logloss:0.094811\tvalidation_1-error:0.064516\tvalidation_1-logloss:0.230444\n",
      "[79]\tvalidation_0-error:0.014545\tvalidation_0-logloss:0.093948\tvalidation_1-error:0.064516\tvalidation_1-logloss:0.229943\n",
      "[80]\tvalidation_0-error:0.010909\tvalidation_0-logloss:0.093379\tvalidation_1-error:0.064516\tvalidation_1-logloss:0.229551\n",
      "[81]\tvalidation_0-error:0.010909\tvalidation_0-logloss:0.092547\tvalidation_1-error:0.064516\tvalidation_1-logloss:0.230253\n",
      "Stopping. Best iteration:\n",
      "[71]\tvalidation_0-error:0.018182\tvalidation_0-logloss:0.100744\tvalidation_1-error:0.064516\tvalidation_1-logloss:0.22699\n",
      "\n",
      "CPU times: user 240 ms, sys: 100 ms, total: 340 ms\n",
      "Wall time: 266 ms\n"
     ]
    }
   ],
   "source": [
    "%%time\n",
    "\n",
    "model = xgb.XGBClassifier(max_depth=4,\n",
    "                        subsample=0.9,\n",
    "                        objective='binary:logistic',\n",
    "                        n_estimators=200,\n",
    "                        learning_rate = 0.1)\n",
    "eval_set = [(train_X, train_Y), (test_X, test_Y)]\n",
    "model.fit(train_X, train_Y.values.ravel(), early_stopping_rounds=10, eval_metric=[\"error\", \"logloss\"], eval_set=eval_set, verbose=True)"
   ]
  },
  {
   "cell_type": "code",
   "execution_count": 128,
   "metadata": {},
   "outputs": [],
   "source": [
    "# make predictions for test data\n",
    "y_pred = model.predict(test_X)\n",
    "predictions = [round(value) for value in y_pred]"
   ]
  },
  {
   "cell_type": "code",
   "execution_count": 129,
   "metadata": {},
   "outputs": [
    {
     "name": "stdout",
     "output_type": "stream",
     "text": [
      "Accuracy: 93.55%\n"
     ]
    }
   ],
   "source": [
    "# evaluate predictions\n",
    "accuracy = accuracy_score(test_Y, predictions)\n",
    "print(\"Accuracy: %.2f%%\" % (accuracy * 100.0))"
   ]
  },
  {
   "cell_type": "code",
   "execution_count": 130,
   "metadata": {},
   "outputs": [
    {
     "name": "stdout",
     "output_type": "stream",
     "text": [
      "Prediction:  [0]\n",
      "Probabilities:  [[ 0.83542711  0.16457291]]\n"
     ]
    }
   ],
   "source": [
    "# Make DataFrame for model\n",
    "input_variables = pd.DataFrame([[3,4,50.75,1,0,0,0,0,0,0,0,0,0,0,0,0,0,0,0,0,0,0,0,0,0,0,0,0,0,0,0,0,0,0,0,0,0,0,0,0,0,0,0]],\n",
    "                                columns=headers, \n",
    "                                dtype=float,\n",
    "                                index=['input'])\n",
    "\n",
    "# Get the model's prediction\n",
    "prediction = model.predict(input_variables)\n",
    "print(\"Prediction: \", prediction)\n",
    "prediction_proba = model.predict_proba(input_variables)\n",
    "print(\"Probabilities: \", prediction_proba)"
   ]
  },
  {
   "cell_type": "code",
   "execution_count": 131,
   "metadata": {},
   "outputs": [],
   "source": [
    "# save model to file\n",
    "pickle.dump(model, open(\"invoice-risk-model.pkl\", \"wb\"))"
   ]
  },
  {
   "cell_type": "code",
   "execution_count": 132,
   "metadata": {},
   "outputs": [
    {
     "data": {
      "image/png": "[encoded data removed]",
      "text/plain": [
       "<Figure size 432x288 with 1 Axes>"
      ]
     },
     "metadata": {
      "needs_background": "light"
     },
     "output_type": "display_data"
    },
    {
     "data": {
      "image/png": "[encoded data removed]",
      "text/plain": [
       "<Figure size 432x288 with 1 Axes>"
      ]
     },
     "metadata": {
      "needs_background": "light"
     },
     "output_type": "display_data"
    }
   ],
   "source": [
    "# retrieve performance metrics\n",
    "results = model.evals_result()\n",
    "epochs = len(results['validation_0']['error'])\n",
    "x_axis = range(0, epochs)\n",
    "# plot log loss\n",
    "fig, ax = pyplot.subplots()\n",
    "ax.plot(x_axis, results['validation_0']['logloss'], label='Train')\n",
    "ax.plot(x_axis, results['validation_1']['logloss'], label='Test')\n",
    "ax.legend()\n",
    "pyplot.ylabel('Log Loss')\n",
    "pyplot.title('XGBoost Log Loss')\n",
    "pyplot.show()\n",
    "# plot classification error\n",
    "fig, ax = pyplot.subplots()\n",
    "ax.plot(x_axis, results['validation_0']['error'], label='Train')\n",
    "ax.plot(x_axis, results['validation_1']['error'], label='Test')\n",
    "ax.legend()\n",
    "pyplot.ylabel('Classification Error')\n",
    "pyplot.title('XGBoost Classification Error')\n",
    "pyplot.show()"
   ]
  },
  {
   "cell_type": "code",
   "execution_count": null,
   "metadata": {},
   "outputs": [],
   "source": []
  }
 ],
 "metadata": {
  "kernelspec": {
   "display_name": "Python 3",
   "language": "python",
   "name": "python3"
  },
  "language_info": {
   "codemirror_mode": {
    "name": "ipython",
    "version": 3
   },
   "file_extension": ".py",
   "mimetype": "text/x-python",
   "name": "python",
   "nbconvert_exporter": "python",
   "pygments_lexer": "ipython3",
   "version": "3.6.7"
  }
 },
 "nbformat": 4,
 "nbformat_minor": 2
}
