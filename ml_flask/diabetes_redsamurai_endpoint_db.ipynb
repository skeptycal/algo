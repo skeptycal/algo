{
 "cells": [
  {
   "cell_type": "code",
   "execution_count": 1,
   "metadata": {},
   "outputs": [],
   "source": [
    "from flask import Flask, jsonify, request\n",
    "from flask_cors import CORS, cross_origin\n",
    "\n",
    "import pickle\n",
    "import pandas as pd"
   ]
  },
  {
   "cell_type": "code",
   "execution_count": 2,
   "metadata": {},
   "outputs": [],
   "source": [
    "# Get headers for payload\n",
    "headers = ['times_pregnant', 'glucose', 'blood_pressure', 'skin_fold_thick', 'serum_insuling', 'mass_index', 'diabetes_pedigree', 'age']"
   ]
  },
  {
   "cell_type": "code",
   "execution_count": 3,
   "metadata": {},
   "outputs": [],
   "source": [
    "# Use pickle to load in the pre-trained model\n",
    "with open(f'diabetes-model.pkl', 'rb') as f:\n",
    "    model = pickle.load(f)"
   ]
  },
  {
   "cell_type": "code",
   "execution_count": 4,
   "metadata": {},
   "outputs": [
    {
     "name": "stdout",
     "output_type": "stream",
     "text": [
      "Prediction:  [0]\n",
      "Probabilities:  [[ 0.89514029  0.10485974]]\n"
     ]
    }
   ],
   "source": [
    "# Test model with data frame\n",
    "input_variables = pd.DataFrame([[1, 106, 70, 28, 135, 34.2, 0.142, 22]],\n",
    "                                columns=headers, \n",
    "                                dtype=float,\n",
    "                                index=['input'])\n",
    "\n",
    "# Get the model's prediction\n",
    "prediction = model.predict(input_variables)\n",
    "print(\"Prediction: \", prediction)\n",
    "prediction_proba = model.predict_proba(input_variables)\n",
    "print(\"Probabilities: \", prediction_proba)"
   ]
  },
  {
   "cell_type": "code",
   "execution_count": null,
   "metadata": {},
   "outputs": [],
   "source": [
    "app = Flask(__name__)\n",
    "CORS(app)\n",
    "\n",
    "@app.route(\"/katana-ml/api/v1.0/diabetes\", methods=['POST'])\n",
    "def predict():\n",
    "    payload = request.json['data']\n",
    "    values = [float(i) for i in payload.split(',')]\n",
    "    \n",
    "    input_variables = pd.DataFrame([values],\n",
    "                                columns=headers, \n",
    "                                dtype=float,\n",
    "                                index=['input'])\n",
    "\n",
    "    # Get the model's prediction\n",
    "    prediction_proba = model.predict_proba(input_variables)\n",
    "    prediction = (prediction_proba[0])[1]\n",
    "    \n",
    "    ret = '{\"prediction\":' + str(float(prediction)) + '}'\n",
    "    \n",
    "    return ret\n",
    "\n",
    "# running REST interface, port=5000 for direct test\n",
    "if __name__ == \"__main__\":\n",
    "    app.run(debug=False, host='0.0.0.0', port=5000)"
   ]
  }
 ],
 "metadata": {
  "kernelspec": {
   "display_name": "Python 3",
   "language": "python",
   "name": "python3"
  },
  "language_info": {
   "codemirror_mode": {
    "name": "ipython",
    "version": 3
   },
   "file_extension": ".py",
   "mimetype": "text/x-python",
   "name": "python",
   "nbconvert_exporter": "python",
   "pygments_lexer": "ipython3",
   "version": "3.6.7"
  }
 },
 "nbformat": 4,
 "nbformat_minor": 2
}
